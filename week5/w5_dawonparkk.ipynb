{
  "nbformat": 4,
  "nbformat_minor": 0,
  "metadata": {
    "colab": {
      "provenance": [],
      "toc_visible": true
    },
    "kernelspec": {
      "name": "python3",
      "display_name": "Python 3"
    },
    "language_info": {
      "name": "python"
    }
  },
  "cells": [
    {
      "cell_type": "markdown",
      "source": [
        "## (1) 5주차 고정문제\n",
        "- 2주차:[완전탐색 카펫](https://school.programmers.co.kr/learn/courses/30/lessons/42842)"
      ],
      "metadata": {
        "id": "rwXUFzMVT7aV"
      }
    },
    {
      "cell_type": "code",
      "source": [
        "# O(nlogn)\n",
        "def solution(numbers):\n",
        "    num_str = [str(num) for num in numbers] # ['3', '30', '34', '5', '9']                 \n",
        "    num_str.sort(key=lambda num: num*3, reverse=True) #1000이하 ['9', '5', '34', '3', '30']\n",
        "    return str(int(''.join(num_str)))"
      ],
      "metadata": {
        "id": "6J2PAJeHT-4-"
      },
      "execution_count": null,
      "outputs": []
    },
    {
      "cell_type": "markdown",
      "source": [
        "## (2) 5주차별 자유 문제\n",
        "- [정수내림차순](https://school.programmers.co.kr/learn/courses/30/lessons/12933)"
      ],
      "metadata": {
        "id": "nZ2fvrgUUNXW"
      }
    },
    {
      "cell_type": "code",
      "source": [
        "def solution(n):\n",
        "    ls = list(str(int(n)))\n",
        "    ls.sort(reverse = True)\n",
        "    return int(\"\".join(ls))"
      ],
      "metadata": {
        "id": "1p4uHXQpUM5C"
      },
      "execution_count": 1,
      "outputs": []
    },
    {
      "cell_type": "markdown",
      "source": [
        "## (3) 5주차별 자유 문제\n",
        "- [최솟값 만들기](https://school.programmers.co.kr/learn/courses/30/lessons/12941)"
      ],
      "metadata": {
        "id": "5ql75BDwU7_0"
      }
    },
    {
      "cell_type": "code",
      "source": [
        "def solution(A,B): #제너레이터 표현식\n",
        "    return sum(a * b for a, b in zip(sorted(A), sorted(B, reverse=True)))"
      ],
      "metadata": {
        "id": "PE2Cp26GVF6u"
      },
      "execution_count": null,
      "outputs": []
    }
  ]
}