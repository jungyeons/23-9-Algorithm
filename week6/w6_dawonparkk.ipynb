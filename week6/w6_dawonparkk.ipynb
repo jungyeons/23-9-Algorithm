{
  "nbformat": 4,
  "nbformat_minor": 0,
  "metadata": {
    "colab": {
      "provenance": [],
      "toc_visible": true
    },
    "kernelspec": {
      "name": "python3",
      "display_name": "Python 3"
    },
    "language_info": {
      "name": "python"
    }
  },
  "cells": [
    {
      "cell_type": "markdown",
      "source": [
        "## (1) 6주차 고정문제\n",
        "- 6주차:[구명보트](https://school.programmers.co.kr/learn/courses/30/lessons/42885?language=python3)"
      ],
      "metadata": {
        "id": "rwXUFzMVT7aV"
      }
    },
    {
      "cell_type": "code",
      "source": [
        "#O(nlog(n))\n",
        "def solution(people, limit):\n",
        "    answer = 0\n",
        "    people.sort()\n",
        "    left, right = 0, len(people) - 1\n",
        "    \n",
        "    while left <= right:\n",
        "        if people[left] + people[right] <= limit:\n",
        "            left += 1\n",
        "        right -= 1\n",
        "        answer += 1\n",
        "    \n",
        "    return answer"
      ],
      "metadata": {
        "id": "6J2PAJeHT-4-"
      },
      "execution_count": null,
      "outputs": []
    },
    {
      "cell_type": "markdown",
      "source": [
        "## (2) 6주차별 자유 문제\n",
        "- [스킬트리](https://school.programmers.co.kr/learn/courses/30/lessons/49993)"
      ],
      "metadata": {
        "id": "nZ2fvrgUUNXW"
      }
    },
    {
      "cell_type": "code",
      "source": [
        "#O(nm)\n",
        "def solution(skill, skill_trees):\n",
        "    answer = 0\n",
        "    valid = set()\n",
        "    for i in range(len(skill)):\n",
        "        valid.add(skill[:i+1])\n",
        "    \n",
        "    skill_index = {s: i for i, s in enumerate(skill)}\n",
        "    \n",
        "    for skill_tree in skill_trees:\n",
        "      # skill 문자 인덱스 \n",
        "        temp = [skill_index[s] for s in skill_tree if s in skill]\n",
        "        \n",
        "        is_valid = True\n",
        "        for i in range(len(temp)):\n",
        "            if temp[i] != i:\n",
        "                is_valid = False\n",
        "                break\n",
        "        \n",
        "        if is_valid:\n",
        "            answer += 1\n",
        "            \n",
        "    return answer"
      ],
      "metadata": {
        "id": "1p4uHXQpUM5C"
      },
      "execution_count": null,
      "outputs": []
    },
    {
      "cell_type": "markdown",
      "source": [
        "## (3) 6주차별 자유 문제\n",
        "- [124 나라의 숫자](https://school.programmers.co.kr/learn/courses/30/lessons/12899)"
      ],
      "metadata": {
        "id": "5ql75BDwU7_0"
      }
    },
    {
      "cell_type": "code",
      "source": [
        "#O(log n) \n",
        "# divmod()로 몫과 나머지 동시 계산 : 상수항이 작아져서 복잡도는 동일하나 연산속도 더 빠름\n",
        "def solution(n):\n",
        "    answer = ''\n",
        "    while n > 0:\n",
        "        n, r = divmod(n-1, 3)\n",
        "        answer += '124'[r]\n",
        "    return answer[::-1]"
      ],
      "metadata": {
        "id": "PE2Cp26GVF6u"
      },
      "execution_count": null,
      "outputs": []
    }
  ]
}