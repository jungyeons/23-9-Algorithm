{
  "nbformat": 4,
  "nbformat_minor": 0,
  "metadata": {
    "colab": {
      "provenance": [],
      "toc_visible": true
    },
    "kernelspec": {
      "name": "python3",
      "display_name": "Python 3"
    },
    "language_info": {
      "name": "python"
    }
  },
  "cells": [
    {
      "cell_type": "markdown",
      "source": [
        "## (1) 7주차 고정문제\n",
        "- 7주차:[정수삼각형](https://school.programmers.co.kr/learn/courses/30/lessons/43105)"
      ],
      "metadata": {
        "id": "rwXUFzMVT7aV"
      }
    },
    {
      "cell_type": "code",
      "source": [
        "def solution(triangle):\n",
        "    dp = [[0] * len(row) for row in triangle]\n",
        "    dp[0][0] = triangle[0][0]\n",
        "    \n",
        "    for i in range(len(triangle) - 1):\n",
        "        for j in range(len(triangle[i])):\n",
        "            dp[i + 1][j] = max(dp[i + 1][j], dp[i][j] + triangle[i + 1][j])\n",
        "            dp[i + 1][j + 1] = max(dp[i + 1][j + 1], dp[i][j] + triangle[i + 1][j + 1])\n",
        "            answer = max(dp[-1])\n",
        "    \n",
        "    return answer"
      ],
      "metadata": {
        "id": "6J2PAJeHT-4-"
      },
      "execution_count": null,
      "outputs": []
    },
    {
      "cell_type": "markdown",
      "source": [
        "## (2) 7주차별 자유 문제\n",
        "- [타겟넘버](https://school.programmers.co.kr/learn/courses/30/lessons/43165)"
      ],
      "metadata": {
        "id": "nZ2fvrgUUNXW"
      }
    },
    {
      "cell_type": "code",
      "source": [
        "#O(2^n) (n 리스트 길이)\n",
        "def solution(numbers, target):\n",
        "    def dfs(depth, current_sum):\n",
        "        if depth == len(numbers):\n",
        "            if current_sum == target:\n",
        "                return 1\n",
        "            else:\n",
        "                return 0\n",
        "\n",
        "        count = 0\n",
        "        count += dfs(depth + 1, current_sum + numbers[depth])\n",
        "        count += dfs(depth + 1, current_sum - numbers[depth])\n",
        "\n",
        "        return count\n",
        "\n",
        "    answer = dfs(0, 0)\n",
        "    return answer"
      ],
      "metadata": {
        "id": "1p4uHXQpUM5C"
      },
      "execution_count": null,
      "outputs": []
    },
    {
      "cell_type": "markdown",
      "source": [
        "## (3) 7주차별 자유 문제\n",
        "- [네트워크](https://school.programmers.co.kr/learn/courses/30/lessons/43162)"
      ],
      "metadata": {
        "id": "5ql75BDwU7_0"
      }
    },
    {
      "cell_type": "code",
      "source": [
        "#O(n^2) \n",
        "def solution(n, computers):\n",
        "    def dfs(root):\n",
        "        stack = [root]\n",
        "        visited[root] = True\n",
        "        while stack:\n",
        "            node = stack.pop()\n",
        "            for i in range(n):\n",
        "                if computers[node][i] and not visited[i]:\n",
        "                    visited[i] = True\n",
        "                    stack.append(i)\n",
        "\n",
        "    answer = 0\n",
        "    visited = [False] * n\n",
        "    for i in range(n):\n",
        "        if not visited[i]:\n",
        "            dfs(i)\n",
        "            answer += 1\n",
        "\n",
        "    return answer"
      ],
      "metadata": {
        "id": "PE2Cp26GVF6u"
      },
      "execution_count": null,
      "outputs": []
    }
  ]
}